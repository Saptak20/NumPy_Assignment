{
 "cells": [
  {
   "cell_type": "markdown",
   "id": "fff235b0",
   "metadata": {},
   "source": [
    "creating a numpy array"
   ]
  },
  {
   "cell_type": "code",
   "execution_count": 1,
   "id": "c10acdcb",
   "metadata": {},
   "outputs": [
    {
     "name": "stdout",
     "output_type": "stream",
     "text": [
      "int32\n"
     ]
    }
   ],
   "source": [
    "import numpy as np\n",
    "arr = np.arange(6)\n",
    "print(arr.dtype)\n"
   ]
  },
  {
   "cell_type": "markdown",
   "id": "66e8a3c3",
   "metadata": {},
   "source": [
    "checking data type"
   ]
  },
  {
   "cell_type": "code",
   "execution_count": 2,
   "id": "b0f9cefc",
   "metadata": {},
   "outputs": [
    {
     "name": "stdout",
     "output_type": "stream",
     "text": [
      "True\n"
     ]
    }
   ],
   "source": [
    "arr = np.array([1.0, 2.0])\n",
    "print(arr.dtype == np.float64)\n"
   ]
  },
  {
   "cell_type": "markdown",
   "id": "100decfa",
   "metadata": {},
   "source": [
    "creating complex array"
   ]
  },
  {
   "cell_type": "code",
   "execution_count": 3,
   "id": "393df628",
   "metadata": {},
   "outputs": [
    {
     "name": "stdout",
     "output_type": "stream",
     "text": [
      "[1.+2.j 3.+4.j 5.+6.j]\n"
     ]
    }
   ],
   "source": [
    "arr = np.array([1+2j, 3+4j, 5+6j], dtype=np.complex128)\n",
    "print(arr)\n"
   ]
  },
  {
   "cell_type": "markdown",
   "id": "b3f3e5b3",
   "metadata": {},
   "source": [
    "converting to float32"
   ]
  },
  {
   "cell_type": "code",
   "execution_count": 4,
   "id": "bb5fc670",
   "metadata": {},
   "outputs": [
    {
     "name": "stdout",
     "output_type": "stream",
     "text": [
      "[1. 2. 3.]\n"
     ]
    }
   ],
   "source": [
    "arr = np.array([1, 2, 3])\n",
    "arr = arr.astype(np.float32)\n",
    "print(arr)\n"
   ]
  },
  {
   "cell_type": "markdown",
   "id": "bf1b6905",
   "metadata": {},
   "source": [
    "reducing precision to float32"
   ]
  },
  {
   "cell_type": "code",
   "execution_count": 5,
   "id": "f63b0fe4",
   "metadata": {},
   "outputs": [
    {
     "name": "stdout",
     "output_type": "stream",
     "text": [
      "[1. 2.]\n"
     ]
    }
   ],
   "source": [
    "arr = np.array([1.0, 2.0], dtype=np.float64)\n",
    "arr = arr.astype(np.float32)\n",
    "print(arr)\n"
   ]
  },
  {
   "cell_type": "markdown",
   "id": "c579fe4b",
   "metadata": {},
   "source": [
    "getting array attributes"
   ]
  },
  {
   "cell_type": "code",
   "execution_count": 6,
   "id": "adef131a",
   "metadata": {},
   "outputs": [],
   "source": [
    "def array_attributes(arr):\n",
    "    return arr.shape, arr.size, arr.dtype\n"
   ]
  },
  {
   "cell_type": "markdown",
   "id": "99331d16",
   "metadata": {},
   "source": [
    "getting array dimension"
   ]
  },
  {
   "cell_type": "code",
   "execution_count": 7,
   "id": "0855975a",
   "metadata": {},
   "outputs": [],
   "source": [
    "def array_dimension(arr):\n",
    "    return arr.ndim\n"
   ]
  },
  {
   "cell_type": "markdown",
   "id": "a7595dc5",
   "metadata": {},
   "source": [
    "item size and total size"
   ]
  },
  {
   "cell_type": "code",
   "execution_count": 8,
   "id": "073f81e6",
   "metadata": {},
   "outputs": [],
   "source": [
    "def item_size_info(arr):\n",
    "    return arr.itemsize, arr.nbytes\n"
   ]
  },
  {
   "cell_type": "markdown",
   "id": "4dd145e5",
   "metadata": {},
   "source": [
    "array strides"
   ]
  },
  {
   "cell_type": "code",
   "execution_count": 9,
   "id": "ac4c9d43",
   "metadata": {},
   "outputs": [],
   "source": [
    "def array_strides(arr):\n",
    "    return arr.strides\n"
   ]
  },
  {
   "cell_type": "markdown",
   "id": "c6bb4467",
   "metadata": {},
   "source": [
    "shape and stride relationship"
   ]
  },
  {
   "cell_type": "code",
   "execution_count": 10,
   "id": "16c844b7",
   "metadata": {},
   "outputs": [],
   "source": [
    "def shape_stride_relationship(arr):\n",
    "    return arr.shape, arr.strides\n"
   ]
  },
  {
   "cell_type": "markdown",
   "id": "2db8ee1e",
   "metadata": {},
   "source": [
    "creating zeros array"
   ]
  },
  {
   "cell_type": "code",
   "execution_count": 11,
   "id": "64382420",
   "metadata": {},
   "outputs": [],
   "source": [
    "def create_zeros_array(n):\n",
    "    return np.zeros(n)\n"
   ]
  },
  {
   "cell_type": "markdown",
   "id": "60afb95b",
   "metadata": {},
   "source": [
    "creating ones matrix"
   ]
  },
  {
   "cell_type": "code",
   "execution_count": 12,
   "id": "9d876fca",
   "metadata": {},
   "outputs": [],
   "source": [
    "def create_ones_matrix(rows, cols):\n",
    "    return np.ones((rows, cols))\n"
   ]
  },
  {
   "cell_type": "markdown",
   "id": "9f26acf2",
   "metadata": {},
   "source": [
    "creating range array"
   ]
  },
  {
   "cell_type": "code",
   "execution_count": 13,
   "id": "b636c769",
   "metadata": {},
   "outputs": [],
   "source": [
    "def generate_range_array(start, stop, step):\n",
    "    return np.arange(start, stop, step)\n"
   ]
  },
  {
   "cell_type": "markdown",
   "id": "c9bd573c",
   "metadata": {},
   "source": [
    "creating linear space"
   ]
  },
  {
   "cell_type": "code",
   "execution_count": 14,
   "id": "454a795f",
   "metadata": {},
   "outputs": [],
   "source": [
    "def generate_linear_space(start, stop, num):\n",
    "    return np.linspace(start, stop, num)\n"
   ]
  },
  {
   "cell_type": "markdown",
   "id": "e9511f12",
   "metadata": {},
   "source": [
    "creating identity matrix"
   ]
  },
  {
   "cell_type": "code",
   "execution_count": 15,
   "id": "3cb29467",
   "metadata": {},
   "outputs": [],
   "source": [
    "def create_identity_matrix(n):\n",
    "    return np.eye(n)\n"
   ]
  },
  {
   "cell_type": "markdown",
   "id": "5979e875",
   "metadata": {},
   "source": [
    "converting list to array"
   ]
  },
  {
   "cell_type": "code",
   "execution_count": 16,
   "id": "fc808340",
   "metadata": {},
   "outputs": [],
   "source": [
    "def list_to_numpy_array(lst):\n",
    "    return np.array(lst)\n"
   ]
  },
  {
   "cell_type": "markdown",
   "id": "441002ab",
   "metadata": {},
   "source": [
    "concatenating arrays along axis"
   ]
  },
  {
   "cell_type": "code",
   "execution_count": 17,
   "id": "517be0e0",
   "metadata": {},
   "outputs": [
    {
     "name": "stdout",
     "output_type": "stream",
     "text": [
      "[[1 2]\n",
      " [3 4]\n",
      " [5 6]\n",
      " [7 8]]\n"
     ]
    }
   ],
   "source": [
    "def concatenate_arrays(a, b, axis=0):\n",
    "    return np.concatenate((a, b), axis=axis)\n",
    "\n",
    "# Example\n",
    "a = np.array([[1, 2], [3, 4]])\n",
    "b = np.array([[5, 6], [7, 8]])\n",
    "print(concatenate_arrays(a, b, axis=0))\n"
   ]
  },
  {
   "cell_type": "markdown",
   "id": "e978c164",
   "metadata": {},
   "source": [
    "horizontally concatenating arrays with different shapes"
   ]
  },
  {
   "cell_type": "code",
   "execution_count": 18,
   "id": "4f869278",
   "metadata": {},
   "outputs": [
    {
     "name": "stdout",
     "output_type": "stream",
     "text": [
      "[[1 3]\n",
      " [2 5]]\n"
     ]
    }
   ],
   "source": [
    "a = np.array([[1], [2]])\n",
    "b = np.array([[3, 4], [5, 6]])\n",
    "b_trimmed = b[:, :1]  # Adjust shape for concatenation\n",
    "result = np.concatenate((a, b_trimmed), axis=1)\n",
    "print(result)\n"
   ]
  },
  {
   "cell_type": "markdown",
   "id": "59623d38",
   "metadata": {},
   "source": [
    "vertically stacking multiple arrays"
   ]
  },
  {
   "cell_type": "code",
   "execution_count": 19,
   "id": "85ec08bc",
   "metadata": {},
   "outputs": [
    {
     "name": "stdout",
     "output_type": "stream",
     "text": [
      "[[1 2]\n",
      " [3 4]\n",
      " [5 6]]\n"
     ]
    }
   ],
   "source": [
    "def vertical_stack(arr_list):\n",
    "    return np.vstack(arr_list)\n",
    "\n",
    "# Example\n",
    "a = np.array([1, 2])\n",
    "b = np.array([3, 4])\n",
    "c = np.array([5, 6])\n",
    "print(vertical_stack([a, b, c]))\n"
   ]
  },
  {
   "cell_type": "markdown",
   "id": "3d25fe01",
   "metadata": {},
   "source": [
    "generating array within range using step"
   ]
  },
  {
   "cell_type": "code",
   "execution_count": 20,
   "id": "caf89aa4",
   "metadata": {},
   "outputs": [
    {
     "name": "stdout",
     "output_type": "stream",
     "text": [
      "[1 3 5 7 9]\n"
     ]
    }
   ],
   "source": [
    "def generate_range(start, stop, step):\n",
    "    return np.arange(start, stop + 1, step)\n",
    "\n",
    "print(generate_range(1, 10, 2))\n"
   ]
  },
  {
   "cell_type": "markdown",
   "id": "f17cee16",
   "metadata": {},
   "source": [
    "generating equally spaced values"
   ]
  },
  {
   "cell_type": "code",
   "execution_count": 21,
   "id": "62b3a09b",
   "metadata": {},
   "outputs": [
    {
     "name": "stdout",
     "output_type": "stream",
     "text": [
      "[0.         0.11111111 0.22222222 0.33333333 0.44444444 0.55555556\n",
      " 0.66666667 0.77777778 0.88888889 1.        ]\n"
     ]
    }
   ],
   "source": [
    "equally_spaced = np.linspace(0, 1, 10)\n",
    "print(equally_spaced)\n"
   ]
  },
  {
   "cell_type": "markdown",
   "id": "e5c7c93b",
   "metadata": {},
   "source": [
    "generating logarithmic values"
   ]
  },
  {
   "cell_type": "code",
   "execution_count": 22,
   "id": "c80e6e82",
   "metadata": {},
   "outputs": [
    {
     "name": "stdout",
     "output_type": "stream",
     "text": [
      "[   1.            5.62341325   31.6227766   177.827941   1000.        ]\n"
     ]
    }
   ],
   "source": [
    "log_space = np.logspace(0, 3, 5)\n",
    "print(log_space)\n"
   ]
  },
  {
   "cell_type": "markdown",
   "id": "f1431b0f",
   "metadata": {},
   "source": [
    "creating dataframe from numpy array"
   ]
  },
  {
   "cell_type": "code",
   "execution_count": 23,
   "id": "3bb9fba5",
   "metadata": {},
   "outputs": [
    {
     "name": "stdout",
     "output_type": "stream",
     "text": [
      "    A   B   C\n",
      "0  39  66  98\n",
      "1  11  29  31\n",
      "2  88  12   6\n",
      "3  29  86  47\n",
      "4  46  78  66\n"
     ]
    }
   ],
   "source": [
    "import pandas as pd\n",
    "data = np.random.randint(1, 101, size=(5, 3))\n",
    "df = pd.DataFrame(data, columns=[\"A\", \"B\", \"C\"])\n",
    "print(df)\n"
   ]
  },
  {
   "cell_type": "markdown",
   "id": "5a066092",
   "metadata": {},
   "source": [
    "replacing negative values in column"
   ]
  },
  {
   "cell_type": "code",
   "execution_count": 24,
   "id": "ac880dea",
   "metadata": {},
   "outputs": [
    {
     "name": "stdout",
     "output_type": "stream",
     "text": [
      "    A\n",
      "0   0\n",
      "1  20\n",
      "2   0\n",
      "3  40\n"
     ]
    }
   ],
   "source": [
    "def replace_negatives(df, column):\n",
    "    df[column] = np.where(df[column] < 0, 0, df[column])\n",
    "    return df\n",
    "\n",
    "# Example\n",
    "df = pd.DataFrame({\"A\": [-10, 20, -30, 40]})\n",
    "print(replace_negatives(df, \"A\"))\n"
   ]
  },
  {
   "cell_type": "markdown",
   "id": "72e5332d",
   "metadata": {},
   "source": [
    "accessing the third element"
   ]
  },
  {
   "cell_type": "code",
   "execution_count": 25,
   "id": "93e525f3",
   "metadata": {},
   "outputs": [
    {
     "name": "stdout",
     "output_type": "stream",
     "text": [
      "30\n"
     ]
    }
   ],
   "source": [
    "arr = np.array([10, 20, 30, 40])\n",
    "print(arr[2])\n"
   ]
  },
  {
   "cell_type": "markdown",
   "id": "a0a0083e",
   "metadata": {},
   "source": [
    "retrieving element from 2d array"
   ]
  },
  {
   "cell_type": "code",
   "execution_count": 26,
   "id": "20428acf",
   "metadata": {},
   "outputs": [
    {
     "name": "stdout",
     "output_type": "stream",
     "text": [
      "6\n"
     ]
    }
   ],
   "source": [
    "arr = np.array([[1, 2, 3], [4, 5, 6]])\n",
    "print(arr[1, 2])\n"
   ]
  },
  {
   "cell_type": "markdown",
   "id": "3b087aab",
   "metadata": {},
   "source": [
    "extracting elements greater than 5"
   ]
  },
  {
   "cell_type": "code",
   "execution_count": 27,
   "id": "b3fe6239",
   "metadata": {},
   "outputs": [
    {
     "name": "stdout",
     "output_type": "stream",
     "text": [
      "[6 8]\n"
     ]
    }
   ],
   "source": [
    "arr = np.array([1, 6, 8, 2])\n",
    "print(arr[arr > 5])\n"
   ]
  },
  {
   "cell_type": "markdown",
   "id": "1c8492c7",
   "metadata": {},
   "source": [
    "slicing from index 2 to 5"
   ]
  },
  {
   "cell_type": "code",
   "execution_count": 28,
   "id": "70bff834",
   "metadata": {},
   "outputs": [
    {
     "name": "stdout",
     "output_type": "stream",
     "text": [
      "[2 3 4 5]\n"
     ]
    }
   ],
   "source": [
    "arr = np.array([0, 1, 2, 3, 4, 5, 6])\n",
    "print(arr[2:6])\n"
   ]
  },
  {
   "cell_type": "markdown",
   "id": "76e93410",
   "metadata": {},
   "source": [
    "slicing sub-array"
   ]
  },
  {
   "cell_type": "code",
   "execution_count": 29,
   "id": "da9dd5f0",
   "metadata": {},
   "outputs": [
    {
     "name": "stdout",
     "output_type": "stream",
     "text": [
      "[[2 3]\n",
      " [5 6]]\n"
     ]
    }
   ],
   "source": [
    "arr = np.array([[1, 2, 3], [4, 5, 6], [7, 8, 9]])\n",
    "print(arr[[0, 1], 1:3])\n"
   ]
  },
  {
   "cell_type": "markdown",
   "id": "3f7d24c4",
   "metadata": {},
   "source": [
    "extracting using index array"
   ]
  },
  {
   "cell_type": "code",
   "execution_count": 30,
   "id": "3f398e82",
   "metadata": {},
   "outputs": [
    {
     "name": "stdout",
     "output_type": "stream",
     "text": [
      "[[10 20]\n",
      " [30 40]]\n"
     ]
    }
   ],
   "source": [
    "arr = np.array([[10, 20], [30, 40]])\n",
    "indices = [0, 1]\n",
    "print(arr[indices])\n"
   ]
  },
  {
   "cell_type": "markdown",
   "id": "3feae631",
   "metadata": {},
   "source": [
    "filtering with boolean condition"
   ]
  },
  {
   "cell_type": "code",
   "execution_count": 31,
   "id": "d19ed77f",
   "metadata": {},
   "outputs": [
    {
     "name": "stdout",
     "output_type": "stream",
     "text": [
      "[15 20]\n"
     ]
    }
   ],
   "source": [
    "arr = np.array([5, 10, 15, 20])\n",
    "print(arr[arr > 10])\n"
   ]
  },
  {
   "cell_type": "markdown",
   "id": "dbeb261c",
   "metadata": {},
   "source": [
    "extracting from 3d using index arrays"
   ]
  },
  {
   "cell_type": "code",
   "execution_count": 32,
   "id": "f4f97689",
   "metadata": {},
   "outputs": [
    {
     "name": "stdout",
     "output_type": "stream",
     "text": [
      "[ 5 15]\n"
     ]
    }
   ],
   "source": [
    "arr = np.arange(27).reshape(3, 3, 3)\n",
    "print(arr[[0, 1], [1, 2], [2, 0]])\n"
   ]
  },
  {
   "cell_type": "markdown",
   "id": "f020cf7a",
   "metadata": {},
   "source": [
    "extracting with two conditions"
   ]
  },
  {
   "cell_type": "code",
   "execution_count": 33,
   "id": "e9720c89",
   "metadata": {},
   "outputs": [
    {
     "name": "stdout",
     "output_type": "stream",
     "text": [
      "[15 20]\n"
     ]
    }
   ],
   "source": [
    "arr = np.array([10, 15, 20, 25])\n",
    "print(arr[(arr > 10) & (arr < 25)])\n"
   ]
  },
  {
   "cell_type": "markdown",
   "id": "9fda30b5",
   "metadata": {},
   "source": [
    "extracting using row and col index"
   ]
  },
  {
   "cell_type": "code",
   "execution_count": 34,
   "id": "ad2e7ea9",
   "metadata": {},
   "outputs": [
    {
     "name": "stdout",
     "output_type": "stream",
     "text": [
      "[2 3]\n"
     ]
    }
   ],
   "source": [
    "arr = np.array([[1, 2], [3, 4]])\n",
    "rows = np.array([0, 1])\n",
    "cols = np.array([1, 0])\n",
    "print(arr[rows, cols])\n"
   ]
  },
  {
   "cell_type": "markdown",
   "id": "dcaad966",
   "metadata": {},
   "source": [
    "adding scalar to array"
   ]
  },
  {
   "cell_type": "code",
   "execution_count": 35,
   "id": "072330ab",
   "metadata": {},
   "outputs": [
    {
     "name": "stdout",
     "output_type": "stream",
     "text": [
      "[6 7 8]\n"
     ]
    }
   ],
   "source": [
    "arr = np.array([1, 2, 3])\n",
    "print(arr + 5)\n"
   ]
  },
  {
   "cell_type": "markdown",
   "id": "f07fa238",
   "metadata": {},
   "source": [
    "multiplying row-wise with broadcast"
   ]
  },
  {
   "cell_type": "code",
   "execution_count": 36,
   "id": "baa797f6",
   "metadata": {},
   "outputs": [
    {
     "name": "stdout",
     "output_type": "stream",
     "text": [
      "[[0.30227595 0.05898859 0.10406271 0.85189091]\n",
      " [0.08654522 0.74537481 0.05887815 0.09273128]\n",
      " [0.35396063 0.81536898 0.10570992 0.90872804]]\n"
     ]
    }
   ],
   "source": [
    "a = np.random.rand(3, 4)\n",
    "b = np.random.rand(1, 4)\n",
    "print(a * b)\n"
   ]
  },
  {
   "cell_type": "markdown",
   "id": "6f31113f",
   "metadata": {},
   "source": [
    "adding row vector to 2d array"
   ]
  },
  {
   "cell_type": "code",
   "execution_count": 37,
   "id": "f5320304",
   "metadata": {},
   "outputs": [
    {
     "name": "stdout",
     "output_type": "stream",
     "text": [
      "[[1.40485577 1.75419813 1.28340665]\n",
      " [1.63766685 1.3341868  0.77923293]\n",
      " [1.50054227 1.46266626 1.42735106]\n",
      " [1.4428238  0.99227164 1.38401482]]\n"
     ]
    }
   ],
   "source": [
    "a = np.random.rand(4, 3)\n",
    "b = np.random.rand(1, 3)\n",
    "print(a + b)\n"
   ]
  },
  {
   "cell_type": "markdown",
   "id": "190bed7d",
   "metadata": {},
   "source": [
    "adding (3,1) and (1,3)"
   ]
  },
  {
   "cell_type": "code",
   "execution_count": 38,
   "id": "a94d6df3",
   "metadata": {},
   "outputs": [
    {
     "name": "stdout",
     "output_type": "stream",
     "text": [
      "[[1.44973753 1.616272   1.18396172]\n",
      " [1.35762825 1.52416272 1.09185245]\n",
      " [1.03467995 1.20121442 0.76890414]]\n"
     ]
    }
   ],
   "source": [
    "a = np.random.rand(3, 1)\n",
    "b = np.random.rand(1, 3)\n",
    "print(a + b)\n"
   ]
  },
  {
   "cell_type": "markdown",
   "id": "af0ccd99",
   "metadata": {},
   "source": [
    "handling shape incompatibility"
   ]
  },
  {
   "cell_type": "code",
   "execution_count": 39,
   "id": "aaee8ccc",
   "metadata": {},
   "outputs": [
    {
     "name": "stdout",
     "output_type": "stream",
     "text": [
      "Shape mismatch: operands could not be broadcast together with shapes (2,3) (2,2) \n"
     ]
    }
   ],
   "source": [
    "a = np.random.rand(2, 3)\n",
    "b = np.random.rand(2, 2)\n",
    "try:\n",
    "    result = a * b\n",
    "except ValueError as e:\n",
    "    print(\"Shape mismatch:\", e)\n"
   ]
  },
  {
   "cell_type": "markdown",
   "id": "f3d812b1",
   "metadata": {},
   "source": [
    "calculating column mean"
   ]
  },
  {
   "cell_type": "code",
   "execution_count": 40,
   "id": "f2b90b83",
   "metadata": {},
   "outputs": [
    {
     "name": "stdout",
     "output_type": "stream",
     "text": [
      "[0.47007468 0.35248307 0.4597633  0.10515736]\n"
     ]
    }
   ],
   "source": [
    "arr = np.random.rand(3, 4)\n",
    "print(np.mean(arr, axis=0))\n"
   ]
  },
  {
   "cell_type": "markdown",
   "id": "c38d49dc",
   "metadata": {},
   "source": [
    "finding max in each row"
   ]
  },
  {
   "cell_type": "code",
   "execution_count": 41,
   "id": "5ed2e0cc",
   "metadata": {},
   "outputs": [
    {
     "name": "stdout",
     "output_type": "stream",
     "text": [
      "[0.72945814 0.53180724 0.74978531]\n"
     ]
    }
   ],
   "source": [
    "print(np.max(arr, axis=1))\n"
   ]
  },
  {
   "cell_type": "markdown",
   "id": "015fb882",
   "metadata": {},
   "source": [
    "finding index of max in columns"
   ]
  },
  {
   "cell_type": "code",
   "execution_count": 42,
   "id": "4256f5eb",
   "metadata": {},
   "outputs": [
    {
     "name": "stdout",
     "output_type": "stream",
     "text": [
      "[0 0 2 1]\n"
     ]
    }
   ],
   "source": [
    "print(np.argmax(arr, axis=0))\n"
   ]
  },
  {
   "cell_type": "markdown",
   "id": "90e1f354",
   "metadata": {},
   "source": [
    "applying moving sum"
   ]
  },
  {
   "cell_type": "code",
   "execution_count": 43,
   "id": "d9a24ef2",
   "metadata": {},
   "outputs": [
    {
     "name": "stdout",
     "output_type": "stream",
     "text": [
      "[3 5 7 9]\n"
     ]
    }
   ],
   "source": [
    "def moving_sum(arr, window=2):\n",
    "    return np.convolve(arr, np.ones(window, dtype=int), 'valid')\n",
    "\n",
    "arr = np.array([1, 2, 3, 4, 5])\n",
    "print(moving_sum(arr))\n"
   ]
  },
  {
   "cell_type": "markdown",
   "id": "944063cf",
   "metadata": {},
   "source": [
    "checking if all in column are even"
   ]
  },
  {
   "cell_type": "code",
   "execution_count": 44,
   "id": "00fa0da8",
   "metadata": {},
   "outputs": [
    {
     "name": "stdout",
     "output_type": "stream",
     "text": [
      "[ True  True]\n"
     ]
    }
   ],
   "source": [
    "arr = np.array([[2, 4], [6, 8]])\n",
    "print(np.all(arr % 2 == 0, axis=0))\n"
   ]
  },
  {
   "cell_type": "markdown",
   "id": "3e8071ea",
   "metadata": {},
   "source": [
    "reshaping array"
   ]
  },
  {
   "cell_type": "code",
   "execution_count": 45,
   "id": "b43745f7",
   "metadata": {},
   "outputs": [
    {
     "name": "stdout",
     "output_type": "stream",
     "text": [
      "[[ 0  1  2  3]\n",
      " [ 4  5  6  7]\n",
      " [ 8  9 10 11]]\n"
     ]
    }
   ],
   "source": [
    "arr = np.arange(12)\n",
    "reshaped = arr.reshape(3, 4)\n",
    "print(reshaped)\n"
   ]
  },
  {
   "cell_type": "markdown",
   "id": "25bb07d9",
   "metadata": {},
   "source": [
    "flattening array"
   ]
  },
  {
   "cell_type": "code",
   "execution_count": 46,
   "id": "b38136f0",
   "metadata": {},
   "outputs": [
    {
     "name": "stdout",
     "output_type": "stream",
     "text": [
      "[ 0  1  2  3  4  5  6  7  8  9 10 11]\n"
     ]
    }
   ],
   "source": [
    "print(reshaped.flatten())\n"
   ]
  },
  {
   "cell_type": "markdown",
   "id": "7611bfe6",
   "metadata": {},
   "source": [
    "concatenating arrays"
   ]
  },
  {
   "cell_type": "code",
   "execution_count": 47,
   "id": "0b27260f",
   "metadata": {},
   "outputs": [
    {
     "name": "stdout",
     "output_type": "stream",
     "text": [
      "[[1 2]\n",
      " [3 4]]\n"
     ]
    }
   ],
   "source": [
    "a = np.array([[1, 2]])\n",
    "b = np.array([[3, 4]])\n",
    "print(np.concatenate((a, b), axis=0))\n"
   ]
  },
  {
   "cell_type": "markdown",
   "id": "50a201c5",
   "metadata": {},
   "source": [
    "splitting array"
   ]
  },
  {
   "cell_type": "code",
   "execution_count": 48,
   "id": "bab8eaa9",
   "metadata": {},
   "outputs": [
    {
     "name": "stdout",
     "output_type": "stream",
     "text": [
      "[array([[0, 1, 2],\n",
      "       [3, 4, 5]]), array([[ 6,  7,  8],\n",
      "       [ 9, 10, 11]])]\n"
     ]
    }
   ],
   "source": [
    "arr = np.arange(12).reshape(4, 3)\n",
    "print(np.split(arr, 2, axis=0))\n"
   ]
  },
  {
   "cell_type": "markdown",
   "id": "f54ab4b4",
   "metadata": {},
   "source": [
    "inserting and deleting elements"
   ]
  },
  {
   "cell_type": "code",
   "execution_count": 49,
   "id": "58f31f41",
   "metadata": {},
   "outputs": [
    {
     "name": "stdout",
     "output_type": "stream",
     "text": [
      "[ 1  2 99  3  5]\n"
     ]
    }
   ],
   "source": [
    "arr = np.array([1, 2, 3, 4, 5])\n",
    "arr = np.insert(arr, 2, 99)\n",
    "arr = np.delete(arr, 4)\n",
    "print(arr)\n"
   ]
  },
  {
   "cell_type": "markdown",
   "id": "52a7acf3",
   "metadata": {},
   "source": [
    "element-wise addition"
   ]
  },
  {
   "cell_type": "code",
   "execution_count": 50,
   "id": "ceb034d5",
   "metadata": {},
   "outputs": [
    {
     "name": "stdout",
     "output_type": "stream",
     "text": [
      "[5 7 9]\n"
     ]
    }
   ],
   "source": [
    "a = np.array([1, 2, 3])\n",
    "b = np.array([4, 5, 6])\n",
    "print(a + b)\n"
   ]
  },
  {
   "cell_type": "markdown",
   "id": "31bbead2",
   "metadata": {},
   "source": [
    "element-wise subtraction"
   ]
  },
  {
   "cell_type": "code",
   "execution_count": 51,
   "id": "869dd0be",
   "metadata": {},
   "outputs": [
    {
     "name": "stdout",
     "output_type": "stream",
     "text": [
      "[-3 -3 -3]\n"
     ]
    }
   ],
   "source": [
    "print(a - b)\n"
   ]
  },
  {
   "cell_type": "markdown",
   "id": "97a11758",
   "metadata": {},
   "source": [
    "element-wise multiplication"
   ]
  },
  {
   "cell_type": "code",
   "execution_count": 52,
   "id": "a7dae282",
   "metadata": {},
   "outputs": [
    {
     "name": "stdout",
     "output_type": "stream",
     "text": [
      "[ 4 10 18]\n"
     ]
    }
   ],
   "source": [
    "print(a * b)\n"
   ]
  },
  {
   "cell_type": "markdown",
   "id": "100e850d",
   "metadata": {},
   "source": [
    "element-wise division"
   ]
  },
  {
   "cell_type": "code",
   "execution_count": 53,
   "id": "e5fd7791",
   "metadata": {},
   "outputs": [
    {
     "name": "stdout",
     "output_type": "stream",
     "text": [
      "[0.25 0.4  0.5 ]\n"
     ]
    }
   ],
   "source": [
    "print(a / b)\n"
   ]
  },
  {
   "cell_type": "markdown",
   "id": "e74d70f1",
   "metadata": {},
   "source": [
    "element-wise power"
   ]
  },
  {
   "cell_type": "code",
   "execution_count": 54,
   "id": "eacb40b0",
   "metadata": {},
   "outputs": [
    {
     "name": "stdout",
     "output_type": "stream",
     "text": [
      "[  1  32 729]\n"
     ]
    }
   ],
   "source": [
    "print(a ** b)\n"
   ]
  },
  {
   "cell_type": "markdown",
   "id": "94205494",
   "metadata": {},
   "source": [
    "counting substring"
   ]
  },
  {
   "cell_type": "code",
   "execution_count": 55,
   "id": "aa8a309e",
   "metadata": {},
   "outputs": [
    {
     "name": "stdout",
     "output_type": "stream",
     "text": [
      "[1 0 1]\n"
     ]
    }
   ],
   "source": [
    "arr = np.array([\"hello\", \"world\", \"hello world\"])\n",
    "print(np.char.count(arr, \"lo\"))\n"
   ]
  },
  {
   "cell_type": "markdown",
   "id": "bd0031c7",
   "metadata": {},
   "source": [
    "extracting uppercase"
   ]
  },
  {
   "cell_type": "code",
   "execution_count": 56,
   "id": "32ef5098",
   "metadata": {},
   "outputs": [
    {
     "name": "stdout",
     "output_type": "stream",
     "text": [
      "[1 0 1]\n"
     ]
    }
   ],
   "source": [
    "arr = np.array([\"hello\", \"world\", \"hello world\"])\n",
    "print(np.char.count(arr, \"lo\"))\n"
   ]
  },
  {
   "cell_type": "markdown",
   "id": "c3188ec0",
   "metadata": {},
   "source": [
    "replacing substring"
   ]
  },
  {
   "cell_type": "code",
   "execution_count": 57,
   "id": "4b8edaca",
   "metadata": {},
   "outputs": [
    {
     "name": "stdout",
     "output_type": "stream",
     "text": [
      "['hello' 'world' 'hello world']\n"
     ]
    }
   ],
   "source": [
    "print(np.char.replace(arr, \"Hello\", \"Hi\"))\n"
   ]
  },
  {
   "cell_type": "markdown",
   "id": "556baf41",
   "metadata": {},
   "source": [
    "concatenating strings"
   ]
  },
  {
   "cell_type": "code",
   "execution_count": 58,
   "id": "852d527d",
   "metadata": {},
   "outputs": [
    {
     "name": "stdout",
     "output_type": "stream",
     "text": [
      "['hello_suffix' 'world_suffix' 'hello world_suffix']\n"
     ]
    }
   ],
   "source": [
    "print(np.char.add(arr, \"_suffix\"))\n"
   ]
  },
  {
   "cell_type": "markdown",
   "id": "ca1437ed",
   "metadata": {},
   "source": [
    "finding longest string"
   ]
  },
  {
   "cell_type": "code",
   "execution_count": 59,
   "id": "1a2684a4",
   "metadata": {},
   "outputs": [
    {
     "name": "stdout",
     "output_type": "stream",
     "text": [
      "11\n"
     ]
    }
   ],
   "source": [
    "print(max(map(len, arr)))\n"
   ]
  },
  {
   "cell_type": "markdown",
   "id": "11c54a3d",
   "metadata": {},
   "source": [
    "mean, median, std, var"
   ]
  },
  {
   "cell_type": "code",
   "execution_count": 60,
   "id": "28631e43",
   "metadata": {},
   "outputs": [
    {
     "name": "stdout",
     "output_type": "stream",
     "text": [
      "465.21 455.5 75997.12589999998 275.6757622642948\n"
     ]
    }
   ],
   "source": [
    "data = np.random.randint(1, 1001, 100)\n",
    "print(np.mean(data), np.median(data), np.var(data), np.std(data))\n"
   ]
  },
  {
   "cell_type": "markdown",
   "id": "c339d35a",
   "metadata": {},
   "source": [
    "percentiles"
   ]
  },
  {
   "cell_type": "code",
   "execution_count": 61,
   "id": "c9ac4111",
   "metadata": {},
   "outputs": [
    {
     "name": "stdout",
     "output_type": "stream",
     "text": [
      "20.25 71.0\n"
     ]
    }
   ],
   "source": [
    "data = np.random.randint(1, 101, 50)\n",
    "print(np.percentile(data, 25), np.percentile(data, 75))\n"
   ]
  },
  {
   "cell_type": "markdown",
   "id": "0ebc4397",
   "metadata": {},
   "source": [
    "correlation coefficient"
   ]
  },
  {
   "cell_type": "code",
   "execution_count": 62,
   "id": "7a2d321c",
   "metadata": {},
   "outputs": [
    {
     "name": "stdout",
     "output_type": "stream",
     "text": [
      "[[ 1.         -0.29739233]\n",
      " [-0.29739233  1.        ]]\n"
     ]
    }
   ],
   "source": [
    "x = np.random.rand(10)\n",
    "y = np.random.rand(10)\n",
    "print(np.corrcoef(x, y))\n"
   ]
  },
  {
   "cell_type": "markdown",
   "id": "8de23eca",
   "metadata": {},
   "source": [
    "matrix multiplication"
   ]
  },
  {
   "cell_type": "code",
   "execution_count": 63,
   "id": "9aee8af6",
   "metadata": {},
   "outputs": [
    {
     "name": "stdout",
     "output_type": "stream",
     "text": [
      "[[ 4  4]\n",
      " [10  8]]\n"
     ]
    }
   ],
   "source": [
    "a = np.array([[1, 2], [3, 4]])\n",
    "b = np.array([[2, 0], [1, 2]])\n",
    "print(np.dot(a, b))\n"
   ]
  },
  {
   "cell_type": "markdown",
   "id": "a4cc54a4",
   "metadata": {},
   "source": [
    "multiple percentiles"
   ]
  },
  {
   "cell_type": "code",
   "execution_count": 64,
   "id": "e696f153",
   "metadata": {},
   "outputs": [
    {
     "name": "stdout",
     "output_type": "stream",
     "text": [
      "[18.  44.5 85. ]\n"
     ]
    }
   ],
   "source": [
    "data = np.random.randint(1, 101, 50)\n",
    "print(np.percentile(data, [10, 50, 90]))\n"
   ]
  },
  {
   "cell_type": "markdown",
   "id": "f255ccf8",
   "metadata": {},
   "source": [
    "finding index"
   ]
  },
  {
   "cell_type": "code",
   "execution_count": 65,
   "id": "73eceec2",
   "metadata": {},
   "outputs": [
    {
     "name": "stdout",
     "output_type": "stream",
     "text": [
      "(array([1], dtype=int64),)\n"
     ]
    }
   ],
   "source": [
    "arr = np.array([10, 20, 30])\n",
    "print(np.where(arr == 20))\n"
   ]
  },
  {
   "cell_type": "markdown",
   "id": "231476fa",
   "metadata": {},
   "source": [
    "sorting array"
   ]
  },
  {
   "cell_type": "code",
   "execution_count": 66,
   "id": "aaa751ed",
   "metadata": {},
   "outputs": [
    {
     "name": "stdout",
     "output_type": "stream",
     "text": [
      "[ 1  3 12 16 33 39 40 41 92 98]\n"
     ]
    }
   ],
   "source": [
    "arr = np.random.randint(1, 100, 10)\n",
    "print(np.sort(arr))\n"
   ]
  },
  {
   "cell_type": "markdown",
   "id": "ed7f6b92",
   "metadata": {},
   "source": [
    "filtering > 20"
   ]
  },
  {
   "cell_type": "code",
   "execution_count": 67,
   "id": "bfae3a33",
   "metadata": {},
   "outputs": [
    {
     "name": "stdout",
     "output_type": "stream",
     "text": [
      "[98 39 92 41 40 33]\n"
     ]
    }
   ],
   "source": [
    "print(arr[arr > 20])\n"
   ]
  },
  {
   "cell_type": "markdown",
   "id": "6448b5a2",
   "metadata": {},
   "source": [
    "filtering divisible by 3"
   ]
  },
  {
   "cell_type": "code",
   "execution_count": 68,
   "id": "17190ff2",
   "metadata": {},
   "outputs": [
    {
     "name": "stdout",
     "output_type": "stream",
     "text": [
      "[39  3 33 12]\n"
     ]
    }
   ],
   "source": [
    "print(arr[arr % 3 == 0])\n"
   ]
  },
  {
   "cell_type": "markdown",
   "id": "101930c7",
   "metadata": {},
   "source": [
    "filtering between 20 and 40"
   ]
  },
  {
   "cell_type": "code",
   "execution_count": 69,
   "id": "74aa3e64",
   "metadata": {},
   "outputs": [
    {
     "name": "stdout",
     "output_type": "stream",
     "text": [
      "[39 40 33]\n"
     ]
    }
   ],
   "source": [
    "print(arr[(arr >= 20) & (arr <= 40)])\n"
   ]
  },
  {
   "cell_type": "markdown",
   "id": "d431bc61",
   "metadata": {},
   "source": [
    "checking byte order"
   ]
  },
  {
   "cell_type": "code",
   "execution_count": 70,
   "id": "ef2aaf62",
   "metadata": {},
   "outputs": [
    {
     "name": "stdout",
     "output_type": "stream",
     "text": [
      "=\n"
     ]
    }
   ],
   "source": [
    "arr = np.array([1, 2, 3])\n",
    "print(arr.dtype.byteorder)\n"
   ]
  },
  {
   "cell_type": "markdown",
   "id": "9f4e5d20",
   "metadata": {},
   "source": [
    "performing byte swap"
   ]
  },
  {
   "cell_type": "code",
   "execution_count": 71,
   "id": "c0bf47b9",
   "metadata": {},
   "outputs": [
    {
     "name": "stdout",
     "output_type": "stream",
     "text": [
      "[256   1   4]\n"
     ]
    }
   ],
   "source": [
    "arr = np.array([1, 256, 1024], dtype='>i2')  # big-endian\n",
    "arr.byteswap(inplace=True)\n",
    "print(arr)\n"
   ]
  }
 ],
 "metadata": {
  "kernelspec": {
   "display_name": "base",
   "language": "python",
   "name": "python3"
  },
  "language_info": {
   "codemirror_mode": {
    "name": "ipython",
    "version": 3
   },
   "file_extension": ".py",
   "mimetype": "text/x-python",
   "name": "python",
   "nbconvert_exporter": "python",
   "pygments_lexer": "ipython3",
   "version": "3.12.7"
  }
 },
 "nbformat": 4,
 "nbformat_minor": 5
}
